{
 "cells": [
  {
   "cell_type": "code",
   "execution_count": 1,
   "metadata": {},
   "outputs": [],
   "source": [
    "from matplotlib import pyplot as plot\n",
    "import numpy as np"
   ]
  },
  {
   "cell_type": "code",
   "execution_count": 2,
   "metadata": {},
   "outputs": [],
   "source": [
    "preference = ({'Peugot':1200,'Ford':870,'Chevy':970,'Jetta':430,'Fiat':49})"
   ]
  },
  {
   "cell_type": "code",
   "execution_count": 3,
   "metadata": {},
   "outputs": [],
   "source": [
    "# Pareto - sort preference in descending order\n",
    "weights, labels = zip(*sorted(((pref,genre) for genre,pref in preference.items()), reverse=True))"
   ]
  },
  {
   "cell_type": "code",
   "execution_count": 5,
   "metadata": {},
   "outputs": [],
   "source": [
    "for i in weights:\n",
    "    cumu_1 = weights[0]\n",
    "    cumu_2 = weights[1] + cumu_1\n",
    "    cumu_3 = weights[2] + cumu_2\n",
    "    cumu_4 = weights[3] + cumu_3\n",
    "    cumu_5 = weights[4] + cumu_4\n",
    "cumu_weights = [cumu_1,cumu_2, cumu_3, cumu_4, cumu_5]"
   ]
  },
  {
   "cell_type": "code",
   "execution_count": 6,
   "metadata": {},
   "outputs": [
    {
     "name": "stdout",
     "output_type": "stream",
     "text": [
      "[1500, 2450, 3120, 3570, 3620]\n"
     ]
    }
   ],
   "source": [
    "print(cumu_weights)"
   ]
  },
  {
   "cell_type": "code",
   "execution_count": 7,
   "metadata": {},
   "outputs": [
    {
     "data": {
      "text/plain": [
       "[<matplotlib.lines.Line2D at 0x7cd50f0>]"
      ]
     },
     "execution_count": 7,
     "metadata": {},
     "output_type": "execute_result"
    },
    {
     "data": {
      "image/png": "[encoded data removed]",
      "text/plain": [
       "<Figure size 432x288 with 1 Axes>"
      ]
     },
     "metadata": {},
     "output_type": "display_data"
    }
   ],
   "source": [
    "# lefthand edge of each bar\n",
    "left = np.arange(len(weights))\n",
    "fig, ax = plot.subplots(1, 1)\n",
    "ax.bar(left, weights, 1)\n",
    "ax.set_xticks(left)\n",
    "ax.set_xticklabels(labels,fontsize=10, fontweight='bold', rotation=35, color='darkblue')\n",
    "ax.plot(cumu_weights)"
   ]
  }
 ],
 "metadata": {
  "kernelspec": {
   "display_name": "Python 2",
   "language": "python",
   "name": "python2"
  },
  "language_info": {
   "codemirror_mode": {
    "name": "ipython",
    "version": 2
   },
   "file_extension": ".py",
   "mimetype": "text/x-python",
   "name": "python",
   "nbconvert_exporter": "python",
   "pygments_lexer": "ipython2",
   "version": "2.7.15"
  }
 },
 "nbformat": 4,
 "nbformat_minor": 2
}
